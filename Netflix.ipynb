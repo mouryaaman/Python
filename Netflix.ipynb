{
 "cells": [
  {
   "cell_type": "code",
   "execution_count": 1,
   "metadata": {},
   "outputs": [],
   "source": [
    "#importing libs\n",
    "import pandas as pd\n",
    "import numpy as np"
   ]
  },
  {
   "cell_type": "code",
   "execution_count": 51,
   "metadata": {},
   "outputs": [],
   "source": [
    "#importing data\n",
    "Netflix_sd = pd.read_csv('G:/Data_Set/NETFLIX/netflix_show_discription.csv')\n",
    "title2 = pd.read_csv('G:/Data_Set/NETFLIX/netflix_titles.csv')\n",
    "SD = pd.read_csv('G:/Data_Set/NETFLIX/show_discription.csv')"
   ]
  },
  {
   "cell_type": "code",
   "execution_count": 53,
   "metadata": {},
   "outputs": [],
   "source": [
    "#Cleaing the data \n",
    "Netflix_sd = Netflix_sd.dropna()\n",
    "title2 = title2.dropna()\n",
    "SD = SD.dropna()"
   ]
  },
  {
   "cell_type": "code",
   "execution_count": 54,
   "metadata": {},
   "outputs": [
    {
     "name": "stdout",
     "output_type": "stream",
     "text": [
      "     show_id                                        description\n",
      "0         s1  In a future where the elite inhabit an island ...\n",
      "1         s2  After a devastating earthquake hits Mexico Cit...\n",
      "2         s3  When an army recruit is found dead, his fellow...\n",
      "3         s4  In a postapocalyptic world, rag-doll robots hi...\n",
      "4         s5  A brilliant group of students become card-coun...\n",
      "...      ...                                                ...\n",
      "7782   s7783  When Lebanon's Civil War deprives Zozo of his ...\n",
      "7783   s7784  A scrappy but poor boy worms his way into a ty...\n",
      "7784   s7785  In this documentary, South African rapper Nast...\n",
      "7785   s7786  Dessert wizard Adriano Zumbo looks for the nex...\n",
      "7786   s7787  This documentary delves into the mystique behi...\n",
      "\n",
      "[7787 rows x 2 columns]\n",
      "Empty DataFrame\n",
      "Columns: [show_id, type, title, director, cast, country, date_added, release_year, rating, duration, listed_in, Unnamed: 11]\n",
      "Index: []\n",
      "     show_id                                        description\n",
      "0         s1  In a future where the elite inhabit an island ...\n",
      "1         s2  After a devastating earthquake hits Mexico Cit...\n",
      "2         s3  When an army recruit is found dead, his fellow...\n",
      "3         s4  In a postapocalyptic world, rag-doll robots hi...\n",
      "4         s5  A brilliant group of students become card-coun...\n",
      "...      ...                                                ...\n",
      "7782   s7783  When Lebanon's Civil War deprives Zozo of his ...\n",
      "7783   s7784  A scrappy but poor boy worms his way into a ty...\n",
      "7784   s7785  In this documentary, South African rapper Nast...\n",
      "7785   s7786  Dessert wizard Adriano Zumbo looks for the nex...\n",
      "7786   s7787  This documentary delves into the mystique behi...\n",
      "\n",
      "[7787 rows x 2 columns]\n"
     ]
    }
   ],
   "source": [
    "print(Netflix_sd)\n",
    "print(title2)\n",
    "print(SD)"
   ]
  },
  {
   "cell_type": "code",
   "execution_count": 27,
   "metadata": {},
   "outputs": [
    {
     "data": {
      "text/plain": [
       "['show_id', 'description']"
      ]
     },
     "execution_count": 27,
     "metadata": {},
     "output_type": "execute_result"
    }
   ],
   "source": [
    "#getting cloumn name\n",
    "list(Netflix_sd)"
   ]
  },
  {
   "cell_type": "code",
   "execution_count": 55,
   "metadata": {},
   "outputs": [
    {
     "data": {
      "text/plain": [
       "['show_id',\n",
       " 'type',\n",
       " 'title',\n",
       " 'director',\n",
       " 'cast',\n",
       " 'country',\n",
       " 'date_added',\n",
       " 'release_year',\n",
       " 'rating',\n",
       " 'duration',\n",
       " 'listed_in',\n",
       " 'Unnamed: 11']"
      ]
     },
     "execution_count": 55,
     "metadata": {},
     "output_type": "execute_result"
    }
   ],
   "source": [
    "list(title2)"
   ]
  },
  {
   "cell_type": "code",
   "execution_count": 32,
   "metadata": {},
   "outputs": [
    {
     "data": {
      "text/plain": [
       "['show_id', 'description']"
      ]
     },
     "execution_count": 32,
     "metadata": {},
     "output_type": "execute_result"
    }
   ],
   "source": [
    "list(SD)"
   ]
  },
  {
   "cell_type": "code",
   "execution_count": 56,
   "metadata": {},
   "outputs": [
    {
     "data": {
      "text/html": [
       "<div>\n",
       "<style scoped>\n",
       "    .dataframe tbody tr th:only-of-type {\n",
       "        vertical-align: middle;\n",
       "    }\n",
       "\n",
       "    .dataframe tbody tr th {\n",
       "        vertical-align: top;\n",
       "    }\n",
       "\n",
       "    .dataframe thead th {\n",
       "        text-align: right;\n",
       "    }\n",
       "</style>\n",
       "<table border=\"1\" class=\"dataframe\">\n",
       "  <thead>\n",
       "    <tr style=\"text-align: right;\">\n",
       "      <th></th>\n",
       "      <th>show_id</th>\n",
       "      <th>type</th>\n",
       "      <th>title</th>\n",
       "      <th>director</th>\n",
       "      <th>country</th>\n",
       "      <th>release_year</th>\n",
       "      <th>rating</th>\n",
       "      <th>duration</th>\n",
       "      <th>Unnamed: 11</th>\n",
       "    </tr>\n",
       "  </thead>\n",
       "  <tbody>\n",
       "  </tbody>\n",
       "</table>\n",
       "</div>"
      ],
      "text/plain": [
       "Empty DataFrame\n",
       "Columns: [show_id, type, title, director, country, release_year, rating, duration, Unnamed: 11]\n",
       "Index: []"
      ]
     },
     "execution_count": 56,
     "metadata": {},
     "output_type": "execute_result"
    }
   ],
   "source": [
    "#removing coloums\n",
    "title2.drop(columns=['date_added','cast','listed_in'])"
   ]
  },
  {
   "cell_type": "code",
   "execution_count": 58,
   "metadata": {},
   "outputs": [],
   "source": [
    "#merging two dataframes\n",
    "Df3 = pd.merge(Netflix_sd, title2, how=\"left\")"
   ]
  },
  {
   "cell_type": "code",
   "execution_count": 61,
   "metadata": {},
   "outputs": [
    {
     "data": {
      "text/plain": [
       "['show_id',\n",
       " 'description',\n",
       " 'type',\n",
       " 'title',\n",
       " 'director',\n",
       " 'cast',\n",
       " 'country',\n",
       " 'date_added',\n",
       " 'release_year',\n",
       " 'rating',\n",
       " 'duration',\n",
       " 'listed_in',\n",
       " 'Unnamed: 11']"
      ]
     },
     "execution_count": 61,
     "metadata": {},
     "output_type": "execute_result"
    }
   ],
   "source": [
    "list(Df3)"
   ]
  },
  {
   "cell_type": "code",
   "execution_count": 63,
   "metadata": {},
   "outputs": [],
   "source": [
    "#replacing NAN\n",
    "Df3 = Df3.fillna(\"NA\")"
   ]
  },
  {
   "cell_type": "code",
   "execution_count": 64,
   "metadata": {},
   "outputs": [
    {
     "name": "stdout",
     "output_type": "stream",
     "text": [
      "     show_id                                        description type title  \\\n",
      "0         s1  In a future where the elite inhabit an island ...   NA    NA   \n",
      "1         s2  After a devastating earthquake hits Mexico Cit...   NA    NA   \n",
      "2         s3  When an army recruit is found dead, his fellow...   NA    NA   \n",
      "3         s4  In a postapocalyptic world, rag-doll robots hi...   NA    NA   \n",
      "4         s5  A brilliant group of students become card-coun...   NA    NA   \n",
      "...      ...                                                ...  ...   ...   \n",
      "7782   s7783  When Lebanon's Civil War deprives Zozo of his ...   NA    NA   \n",
      "7783   s7784  A scrappy but poor boy worms his way into a ty...   NA    NA   \n",
      "7784   s7785  In this documentary, South African rapper Nast...   NA    NA   \n",
      "7785   s7786  Dessert wizard Adriano Zumbo looks for the nex...   NA    NA   \n",
      "7786   s7787  This documentary delves into the mystique behi...   NA    NA   \n",
      "\n",
      "     director cast country date_added release_year rating duration listed_in  \\\n",
      "0          NA   NA      NA         NA           NA     NA       NA        NA   \n",
      "1          NA   NA      NA         NA           NA     NA       NA        NA   \n",
      "2          NA   NA      NA         NA           NA     NA       NA        NA   \n",
      "3          NA   NA      NA         NA           NA     NA       NA        NA   \n",
      "4          NA   NA      NA         NA           NA     NA       NA        NA   \n",
      "...       ...  ...     ...        ...          ...    ...      ...       ...   \n",
      "7782       NA   NA      NA         NA           NA     NA       NA        NA   \n",
      "7783       NA   NA      NA         NA           NA     NA       NA        NA   \n",
      "7784       NA   NA      NA         NA           NA     NA       NA        NA   \n",
      "7785       NA   NA      NA         NA           NA     NA       NA        NA   \n",
      "7786       NA   NA      NA         NA           NA     NA       NA        NA   \n",
      "\n",
      "     Unnamed: 11  \n",
      "0             NA  \n",
      "1             NA  \n",
      "2             NA  \n",
      "3             NA  \n",
      "4             NA  \n",
      "...          ...  \n",
      "7782          NA  \n",
      "7783          NA  \n",
      "7784          NA  \n",
      "7785          NA  \n",
      "7786          NA  \n",
      "\n",
      "[7787 rows x 13 columns]\n"
     ]
    }
   ],
   "source": [
    "print(Df3)"
   ]
  },
  {
   "cell_type": "code",
   "execution_count": 65,
   "metadata": {},
   "outputs": [],
   "source": [
    "#sorting data\n",
    "Df3 = Df3.sort_values(by = 'release_year', ascending=False)"
   ]
  },
  {
   "cell_type": "code",
   "execution_count": 66,
   "metadata": {},
   "outputs": [
    {
     "name": "stdout",
     "output_type": "stream",
     "text": [
      "     show_id                                        description type title  \\\n",
      "0         s1  In a future where the elite inhabit an island ...   NA    NA   \n",
      "5171   s5172  After an ugly divorce, a wealthy but unhappy m...   NA    NA   \n",
      "5199   s5200  Rich kid Teto is determined to prove himself t...   NA    NA   \n",
      "5198   s5199  From how social media can ruin relationships t...   NA    NA   \n",
      "5197   s5198  Droll comic Ricardo Quevedo hits Bogotá with a...   NA    NA   \n",
      "...      ...                                                ...  ...   ...   \n",
      "2591   s2592  When a con man tries to retrieve a bag of mone...   NA    NA   \n",
      "2590   s2591  Wanting his missing father to come home, a Kas...   NA    NA   \n",
      "2589   s2590  The Vietnam War's horrors come brutally to lif...   NA    NA   \n",
      "2588   s2589  Love blooms when kind-hearted Avinash takes in...   NA    NA   \n",
      "7786   s7787  This documentary delves into the mystique behi...   NA    NA   \n",
      "\n",
      "     director cast country date_added release_year rating duration listed_in  \\\n",
      "0          NA   NA      NA         NA           NA     NA       NA        NA   \n",
      "5171       NA   NA      NA         NA           NA     NA       NA        NA   \n",
      "5199       NA   NA      NA         NA           NA     NA       NA        NA   \n",
      "5198       NA   NA      NA         NA           NA     NA       NA        NA   \n",
      "5197       NA   NA      NA         NA           NA     NA       NA        NA   \n",
      "...       ...  ...     ...        ...          ...    ...      ...       ...   \n",
      "2591       NA   NA      NA         NA           NA     NA       NA        NA   \n",
      "2590       NA   NA      NA         NA           NA     NA       NA        NA   \n",
      "2589       NA   NA      NA         NA           NA     NA       NA        NA   \n",
      "2588       NA   NA      NA         NA           NA     NA       NA        NA   \n",
      "7786       NA   NA      NA         NA           NA     NA       NA        NA   \n",
      "\n",
      "     Unnamed: 11  \n",
      "0             NA  \n",
      "5171          NA  \n",
      "5199          NA  \n",
      "5198          NA  \n",
      "5197          NA  \n",
      "...          ...  \n",
      "2591          NA  \n",
      "2590          NA  \n",
      "2589          NA  \n",
      "2588          NA  \n",
      "7786          NA  \n",
      "\n",
      "[7787 rows x 13 columns]\n"
     ]
    }
   ],
   "source": [
    "print(Df3)"
   ]
  },
  {
   "cell_type": "code",
   "execution_count": null,
   "metadata": {},
   "outputs": [],
   "source": []
  }
 ],
 "metadata": {
  "kernelspec": {
   "display_name": "Python 3",
   "language": "python",
   "name": "python3"
  },
  "language_info": {
   "codemirror_mode": {
    "name": "ipython",
    "version": 3
   },
   "file_extension": ".py",
   "mimetype": "text/x-python",
   "name": "python",
   "nbconvert_exporter": "python",
   "pygments_lexer": "ipython3",
   "version": "3.8.8"
  }
 },
 "nbformat": 4,
 "nbformat_minor": 4
}
