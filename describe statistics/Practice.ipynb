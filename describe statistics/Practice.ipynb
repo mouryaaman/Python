{
 "cells": [
  {
   "cell_type": "code",
   "execution_count": 32,
   "id": "27aecc54",
   "metadata": {},
   "outputs": [],
   "source": [
    "#impoting libs\n",
    "import numpy as np\n",
    "import pandas as pd\n",
    "from scipy import stats"
   ]
  },
  {
   "cell_type": "code",
   "execution_count": 40,
   "id": "70d2dd53",
   "metadata": {},
   "outputs": [],
   "source": [
    "#creating data frame\n",
    "df1 = [1,2,3,4,5]\n",
    "df2 = [6,7,8,9,10]"
   ]
  },
  {
   "cell_type": "code",
   "execution_count": 42,
   "id": "1016ea37",
   "metadata": {},
   "outputs": [
    {
     "data": {
      "text/plain": [
       "DescribeResult(nobs=5, minmax=(1, 5), mean=3.0, variance=2.5, skewness=0.0, kurtosis=-1.3)"
      ]
     },
     "execution_count": 42,
     "metadata": {},
     "output_type": "execute_result"
    }
   ],
   "source": [
    "#using describe funcation\n",
    "stats.describe(df1)\n",
    "\n"
   ]
  },
  {
   "cell_type": "code",
   "execution_count": 43,
   "id": "af95cd1a",
   "metadata": {},
   "outputs": [],
   "source": [
    "# crating def funcation for re use of code\n",
    "def dstats(a):\n",
    "    print(stats.describe(a))\n",
    "    print(np.var(a))\n",
    "    print(np.median(a))\n",
    "    print(np.sqrt(a))"
   ]
  },
  {
   "cell_type": "code",
   "execution_count": 44,
   "id": "907f1f24",
   "metadata": {},
   "outputs": [
    {
     "name": "stdout",
     "output_type": "stream",
     "text": [
      "DescribeResult(nobs=5, minmax=(1, 5), mean=3.0, variance=2.5, skewness=0.0, kurtosis=-1.3)\n",
      "2.0\n",
      "3.0\n",
      "[1.         1.41421356 1.73205081 2.         2.23606798]\n"
     ]
    }
   ],
   "source": [
    "#getting result\n",
    "dstats(df1)"
   ]
  },
  {
   "cell_type": "code",
   "execution_count": 45,
   "id": "22adb96e",
   "metadata": {},
   "outputs": [
    {
     "name": "stdout",
     "output_type": "stream",
     "text": [
      "DescribeResult(nobs=5, minmax=(6, 10), mean=8.0, variance=2.5, skewness=0.0, kurtosis=-1.3)\n",
      "2.0\n",
      "8.0\n",
      "[2.44948974 2.64575131 2.82842712 3.         3.16227766]\n"
     ]
    }
   ],
   "source": [
    "dstats(df2)"
   ]
  },
  {
   "cell_type": "code",
   "execution_count": null,
   "id": "7226e9c7",
   "metadata": {},
   "outputs": [],
   "source": []
  }
 ],
 "metadata": {
  "kernelspec": {
   "display_name": "Python 3",
   "language": "python",
   "name": "python3"
  },
  "language_info": {
   "codemirror_mode": {
    "name": "ipython",
    "version": 3
   },
   "file_extension": ".py",
   "mimetype": "text/x-python",
   "name": "python",
   "nbconvert_exporter": "python",
   "pygments_lexer": "ipython3",
   "version": "3.8.8"
  }
 },
 "nbformat": 4,
 "nbformat_minor": 5
}
